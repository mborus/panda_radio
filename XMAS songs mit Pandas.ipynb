{
 "cells": [
  {
   "cell_type": "markdown",
   "metadata": {},
   "source": [
    "## Weihnachtslieder mit Pandas finden\n",
    "\n",
    "Dieses Beispiel durchsucht die Playlist einen erfundenen Popradiosenders und sucht nacht Weihnachtsliedern.\n",
    "\n",
    "Es ist Begleitmaterial zu einer Session in Data Science Open Space Berlin am 11.03.2017 und dem Python Barcamp Köln am 08.04.2017 mit nachträglichen Kommentaren / Verbesserungen."
   ]
  },
  {
   "cell_type": "code",
   "execution_count": 1,
   "metadata": {
    "collapsed": true
   },
   "outputs": [],
   "source": [
    "import pandas as pd\n",
    "import datetime as dt\n",
    "\n",
    "import matplotlib.pyplot as plt\n",
    "import seaborn as sns\n",
    "%matplotlib inline"
   ]
  },
  {
   "cell_type": "markdown",
   "metadata": {},
   "source": [
    "Die Beispieldaten *FAKE all.txt* sind auf Basis der Playlisten mehrerer marktführender Sender generiert, so im Radio aber nicht gelaufen. Bei der Erzeugung des Testdaten habe ich darauf geachtet, eine möglichst grosse Nähe zu echten Playlisten zu erzeugen. Darüber könnte man einen eigene Session halten..."
   ]
  },
  {
   "cell_type": "code",
   "execution_count": 2,
   "metadata": {
    "collapsed": true
   },
   "outputs": [],
   "source": [
    "playlist = pd.read_csv(r'FAKE all.txt', delimiter='|',header=None) "
   ]
  },
  {
   "cell_type": "code",
   "execution_count": 3,
   "metadata": {
    "collapsed": true
   },
   "outputs": [],
   "source": [
    "playlist.columns = ['date time','artist','title']"
   ]
  },
  {
   "cell_type": "code",
   "execution_count": 4,
   "metadata": {},
   "outputs": [
    {
     "data": {
      "text/html": [
       "<div>\n",
       "<table border=\"1\" class=\"dataframe\">\n",
       "  <thead>\n",
       "    <tr style=\"text-align: right;\">\n",
       "      <th></th>\n",
       "      <th>date time</th>\n",
       "      <th>artist</th>\n",
       "      <th>title</th>\n",
       "    </tr>\n",
       "  </thead>\n",
       "  <tbody>\n",
       "    <tr>\n",
       "      <th>0</th>\n",
       "      <td>2014-10-01 00:02:01</td>\n",
       "      <td>THE COMMON LINNETS</td>\n",
       "      <td>CALM AFTER THE STORM</td>\n",
       "    </tr>\n",
       "    <tr>\n",
       "      <th>1</th>\n",
       "      <td>2014-10-01 00:05:01</td>\n",
       "      <td>IMAGINE DRAGONS</td>\n",
       "      <td>DEMONS</td>\n",
       "    </tr>\n",
       "    <tr>\n",
       "      <th>2</th>\n",
       "      <td>2014-10-01 00:09:02</td>\n",
       "      <td>JOHNNY HATES JAZZ</td>\n",
       "      <td>TURN BACK THE CLOCK</td>\n",
       "    </tr>\n",
       "    <tr>\n",
       "      <th>3</th>\n",
       "      <td>2014-10-01 00:12:02</td>\n",
       "      <td>HERBERT GRÖNEMEYER</td>\n",
       "      <td>MORGEN</td>\n",
       "    </tr>\n",
       "    <tr>\n",
       "      <th>4</th>\n",
       "      <td>2014-10-01 00:16:02</td>\n",
       "      <td>MR PROBZ</td>\n",
       "      <td>WAVES [[ROBIN SCHULZ REMIX]]</td>\n",
       "    </tr>\n",
       "  </tbody>\n",
       "</table>\n",
       "</div>"
      ],
      "text/plain": [
       "             date time              artist                         title\n",
       "0  2014-10-01 00:02:01  THE COMMON LINNETS          CALM AFTER THE STORM\n",
       "1  2014-10-01 00:05:01     IMAGINE DRAGONS                        DEMONS\n",
       "2  2014-10-01 00:09:02   JOHNNY HATES JAZZ           TURN BACK THE CLOCK\n",
       "3  2014-10-01 00:12:02  HERBERT GRÖNEMEYER                        MORGEN\n",
       "4  2014-10-01 00:16:02            MR PROBZ  WAVES [[ROBIN SCHULZ REMIX]]"
      ]
     },
     "execution_count": 4,
     "metadata": {},
     "output_type": "execute_result"
    }
   ],
   "source": [
    "playlist.head()"
   ]
  },
  {
   "cell_type": "code",
   "execution_count": 5,
   "metadata": {},
   "outputs": [
    {
     "data": {
      "text/plain": [
       "236083"
      ]
     },
     "execution_count": 5,
     "metadata": {},
     "output_type": "execute_result"
    }
   ],
   "source": [
    "len(playlist)"
   ]
  },
  {
   "cell_type": "code",
   "execution_count": 6,
   "metadata": {
    "collapsed": true
   },
   "outputs": [],
   "source": [
    "playlist['artist - title'] = playlist['artist'] + '|'+ playlist['title']\n",
    "del playlist['artist']\n",
    "del playlist['title']"
   ]
  },
  {
   "cell_type": "code",
   "execution_count": 7,
   "metadata": {},
   "outputs": [
    {
     "data": {
      "text/html": [
       "<div>\n",
       "<table border=\"1\" class=\"dataframe\">\n",
       "  <thead>\n",
       "    <tr style=\"text-align: right;\">\n",
       "      <th></th>\n",
       "      <th>date time</th>\n",
       "      <th>artist - title</th>\n",
       "    </tr>\n",
       "  </thead>\n",
       "  <tbody>\n",
       "    <tr>\n",
       "      <th>0</th>\n",
       "      <td>2014-10-01 00:02:01</td>\n",
       "      <td>THE COMMON LINNETS|CALM AFTER THE STORM</td>\n",
       "    </tr>\n",
       "    <tr>\n",
       "      <th>1</th>\n",
       "      <td>2014-10-01 00:05:01</td>\n",
       "      <td>IMAGINE DRAGONS|DEMONS</td>\n",
       "    </tr>\n",
       "    <tr>\n",
       "      <th>2</th>\n",
       "      <td>2014-10-01 00:09:02</td>\n",
       "      <td>JOHNNY HATES JAZZ|TURN BACK THE CLOCK</td>\n",
       "    </tr>\n",
       "    <tr>\n",
       "      <th>3</th>\n",
       "      <td>2014-10-01 00:12:02</td>\n",
       "      <td>HERBERT GRÖNEMEYER|MORGEN</td>\n",
       "    </tr>\n",
       "    <tr>\n",
       "      <th>4</th>\n",
       "      <td>2014-10-01 00:16:02</td>\n",
       "      <td>MR PROBZ|WAVES [[ROBIN SCHULZ REMIX]]</td>\n",
       "    </tr>\n",
       "  </tbody>\n",
       "</table>\n",
       "</div>"
      ],
      "text/plain": [
       "             date time                           artist - title\n",
       "0  2014-10-01 00:02:01  THE COMMON LINNETS|CALM AFTER THE STORM\n",
       "1  2014-10-01 00:05:01                   IMAGINE DRAGONS|DEMONS\n",
       "2  2014-10-01 00:09:02    JOHNNY HATES JAZZ|TURN BACK THE CLOCK\n",
       "3  2014-10-01 00:12:02                HERBERT GRÖNEMEYER|MORGEN\n",
       "4  2014-10-01 00:16:02    MR PROBZ|WAVES [[ROBIN SCHULZ REMIX]]"
      ]
     },
     "execution_count": 7,
     "metadata": {},
     "output_type": "execute_result"
    }
   ],
   "source": [
    "playlist.head()"
   ]
  },
  {
   "cell_type": "markdown",
   "metadata": {
    "collapsed": true
   },
   "source": [
    "Eine simple Bewertung der Weihnachtsmusik. Einsätze im Dezember bringen Aufwertungen, \n",
    "Einsätze im November sind neutral, Einsätze in anderen Monaten bringen eine Abwertung"
   ]
  },
  {
   "cell_type": "code",
   "execution_count": 8,
   "metadata": {
    "collapsed": true
   },
   "outputs": [],
   "source": [
    "def label_xmas_dt(row):\n",
    "    _month = int(row['date time'][5:7])\n",
    "    if _month == 12:\n",
    "        return 12\n",
    "    if 0 < _month < 11:\n",
    "        return -12\n",
    "    return 0"
   ]
  },
  {
   "cell_type": "code",
   "execution_count": 9,
   "metadata": {
    "collapsed": true
   },
   "outputs": [],
   "source": [
    "playlist['xmas_score'] = playlist.apply (lambda row: label_xmas_dt (row),axis=1)"
   ]
  },
  {
   "cell_type": "code",
   "execution_count": 10,
   "metadata": {},
   "outputs": [
    {
     "data": {
      "text/html": [
       "<div>\n",
       "<table border=\"1\" class=\"dataframe\">\n",
       "  <thead>\n",
       "    <tr style=\"text-align: right;\">\n",
       "      <th></th>\n",
       "      <th>date time</th>\n",
       "      <th>artist - title</th>\n",
       "      <th>xmas_score</th>\n",
       "    </tr>\n",
       "  </thead>\n",
       "  <tbody>\n",
       "    <tr>\n",
       "      <th>0</th>\n",
       "      <td>2014-10-01 00:02:01</td>\n",
       "      <td>THE COMMON LINNETS|CALM AFTER THE STORM</td>\n",
       "      <td>-12</td>\n",
       "    </tr>\n",
       "    <tr>\n",
       "      <th>1</th>\n",
       "      <td>2014-10-01 00:05:01</td>\n",
       "      <td>IMAGINE DRAGONS|DEMONS</td>\n",
       "      <td>-12</td>\n",
       "    </tr>\n",
       "    <tr>\n",
       "      <th>2</th>\n",
       "      <td>2014-10-01 00:09:02</td>\n",
       "      <td>JOHNNY HATES JAZZ|TURN BACK THE CLOCK</td>\n",
       "      <td>-12</td>\n",
       "    </tr>\n",
       "    <tr>\n",
       "      <th>3</th>\n",
       "      <td>2014-10-01 00:12:02</td>\n",
       "      <td>HERBERT GRÖNEMEYER|MORGEN</td>\n",
       "      <td>-12</td>\n",
       "    </tr>\n",
       "    <tr>\n",
       "      <th>4</th>\n",
       "      <td>2014-10-01 00:16:02</td>\n",
       "      <td>MR PROBZ|WAVES [[ROBIN SCHULZ REMIX]]</td>\n",
       "      <td>-12</td>\n",
       "    </tr>\n",
       "  </tbody>\n",
       "</table>\n",
       "</div>"
      ],
      "text/plain": [
       "             date time                           artist - title  xmas_score\n",
       "0  2014-10-01 00:02:01  THE COMMON LINNETS|CALM AFTER THE STORM         -12\n",
       "1  2014-10-01 00:05:01                   IMAGINE DRAGONS|DEMONS         -12\n",
       "2  2014-10-01 00:09:02    JOHNNY HATES JAZZ|TURN BACK THE CLOCK         -12\n",
       "3  2014-10-01 00:12:02                HERBERT GRÖNEMEYER|MORGEN         -12\n",
       "4  2014-10-01 00:16:02    MR PROBZ|WAVES [[ROBIN SCHULZ REMIX]]         -12"
      ]
     },
     "execution_count": 10,
     "metadata": {},
     "output_type": "execute_result"
    }
   ],
   "source": [
    "playlist.head()"
   ]
  },
  {
   "cell_type": "markdown",
   "metadata": {},
   "source": [
    "Mit der einfachen *xmas_score* werden auch Titel gefunden, die nur zufällig im Dezember gespielt wurden. Trotzdem ist das Ergebnis schon nicht schlecht."
   ]
  },
  {
   "cell_type": "code",
   "execution_count": 11,
   "metadata": {},
   "outputs": [
    {
     "data": {
      "text/html": [
       "<div>\n",
       "<table border=\"1\" class=\"dataframe\">\n",
       "  <thead>\n",
       "    <tr style=\"text-align: right;\">\n",
       "      <th></th>\n",
       "      <th>artist - title</th>\n",
       "      <th>xmas_score</th>\n",
       "    </tr>\n",
       "  </thead>\n",
       "  <tbody>\n",
       "    <tr>\n",
       "      <th>0</th>\n",
       "      <td>WHAM!|LAST CHRISTMAS</td>\n",
       "      <td>2976</td>\n",
       "    </tr>\n",
       "    <tr>\n",
       "      <th>1</th>\n",
       "      <td>MELANIE THORNTON|WONDERFUL DREAM (HOLIDAYS ARE...</td>\n",
       "      <td>2700</td>\n",
       "    </tr>\n",
       "    <tr>\n",
       "      <th>2</th>\n",
       "      <td>MARIAH CAREY|ALL I WANT FOR CHRISTMAS IS YOU</td>\n",
       "      <td>2628</td>\n",
       "    </tr>\n",
       "    <tr>\n",
       "      <th>3</th>\n",
       "      <td>BRYAN ADAMS|CHRISTMAS TIME</td>\n",
       "      <td>2196</td>\n",
       "    </tr>\n",
       "    <tr>\n",
       "      <th>4</th>\n",
       "      <td>QUEEN|THANK GOD IT'S CHRISTMAS</td>\n",
       "      <td>2172</td>\n",
       "    </tr>\n",
       "    <tr>\n",
       "      <th>5</th>\n",
       "      <td>SARAH CONNOR|THE BEST SIDE OF LIFE</td>\n",
       "      <td>2160</td>\n",
       "    </tr>\n",
       "    <tr>\n",
       "      <th>6</th>\n",
       "      <td>BAND AID|DO THEY KNOW IT'S CHRISTMAS?</td>\n",
       "      <td>1560</td>\n",
       "    </tr>\n",
       "    <tr>\n",
       "      <th>7</th>\n",
       "      <td>AMERITZ - TRIBUTE|DRIVING HOME FOR CHRISTMAS</td>\n",
       "      <td>1464</td>\n",
       "    </tr>\n",
       "    <tr>\n",
       "      <th>8</th>\n",
       "      <td>CHRIS REA|DRIVING HOME FOR CHRISTMAS</td>\n",
       "      <td>1188</td>\n",
       "    </tr>\n",
       "    <tr>\n",
       "      <th>9</th>\n",
       "      <td>BAND AID 30|DO THEY KNOW IT'S CHRISTMAS? (2014)</td>\n",
       "      <td>1152</td>\n",
       "    </tr>\n",
       "    <tr>\n",
       "      <th>10</th>\n",
       "      <td>EURYTHMICS|WINTER WONDERLAND</td>\n",
       "      <td>984</td>\n",
       "    </tr>\n",
       "    <tr>\n",
       "      <th>11</th>\n",
       "      <td>MICHAEL BUBLÉ|LET IT SNOW, LET IT SNOW, LET IT...</td>\n",
       "      <td>900</td>\n",
       "    </tr>\n",
       "    <tr>\n",
       "      <th>12</th>\n",
       "      <td>JON BON JOVI|PLEASE COME HOME FOR CHRISTMAS</td>\n",
       "      <td>768</td>\n",
       "    </tr>\n",
       "    <tr>\n",
       "      <th>13</th>\n",
       "      <td>SARAH CONNOR|BEDINGUNGSLOS</td>\n",
       "      <td>744</td>\n",
       "    </tr>\n",
       "    <tr>\n",
       "      <th>14</th>\n",
       "      <td>PENTATONIX|HALLELUJAH</td>\n",
       "      <td>720</td>\n",
       "    </tr>\n",
       "    <tr>\n",
       "      <th>15</th>\n",
       "      <td>AUDREY HANNAH|IT´S DECEMBER (AND I´LL BE MISSI...</td>\n",
       "      <td>636</td>\n",
       "    </tr>\n",
       "    <tr>\n",
       "      <th>16</th>\n",
       "      <td>MATT SIMONS|CATCH &amp; RELEASE (DEEPEND REMIX</td>\n",
       "      <td>576</td>\n",
       "    </tr>\n",
       "    <tr>\n",
       "      <th>17</th>\n",
       "      <td>AVICII|BROKEN ARROWS</td>\n",
       "      <td>516</td>\n",
       "    </tr>\n",
       "    <tr>\n",
       "      <th>18</th>\n",
       "      <td>GWEN STEFANI|USED TO LOVE YOU</td>\n",
       "      <td>456</td>\n",
       "    </tr>\n",
       "    <tr>\n",
       "      <th>19</th>\n",
       "      <td>BRITNEY SPEARS|MY ONLY WISH (THIS YEAR)</td>\n",
       "      <td>444</td>\n",
       "    </tr>\n",
       "    <tr>\n",
       "      <th>20</th>\n",
       "      <td>OLLY MURS|GROW UP</td>\n",
       "      <td>420</td>\n",
       "    </tr>\n",
       "    <tr>\n",
       "      <th>21</th>\n",
       "      <td>MAX MUTZKE|UNSERE NACHT</td>\n",
       "      <td>408</td>\n",
       "    </tr>\n",
       "    <tr>\n",
       "      <th>22</th>\n",
       "      <td>NICO &amp; VINZ|IN YOUR ARMS</td>\n",
       "      <td>372</td>\n",
       "    </tr>\n",
       "    <tr>\n",
       "      <th>23</th>\n",
       "      <td>LEONA LEWIS|ONE MORE SLEEP</td>\n",
       "      <td>372</td>\n",
       "    </tr>\n",
       "    <tr>\n",
       "      <th>24</th>\n",
       "      <td>RIHANNA|LOVE ON THE BRAIN</td>\n",
       "      <td>312</td>\n",
       "    </tr>\n",
       "    <tr>\n",
       "      <th>25</th>\n",
       "      <td>PAUL YOUNG|WHAT CHRISTMAS MEANS TO ME</td>\n",
       "      <td>312</td>\n",
       "    </tr>\n",
       "    <tr>\n",
       "      <th>26</th>\n",
       "      <td>THE WEEKND FT. DAFT PUNK|STARBOY</td>\n",
       "      <td>300</td>\n",
       "    </tr>\n",
       "    <tr>\n",
       "      <th>27</th>\n",
       "      <td>POP R&amp;B DIVAS|DO YOU HEAR WHAT I HEAR?</td>\n",
       "      <td>300</td>\n",
       "    </tr>\n",
       "    <tr>\n",
       "      <th>28</th>\n",
       "      <td>CARNIE WILSON &amp; WENDY WILSON|HEY SANTA!</td>\n",
       "      <td>264</td>\n",
       "    </tr>\n",
       "    <tr>\n",
       "      <th>29</th>\n",
       "      <td>ONEREPUBLIC &amp; ALESSO|LOVE RUNS OUT</td>\n",
       "      <td>240</td>\n",
       "    </tr>\n",
       "    <tr>\n",
       "      <th>30</th>\n",
       "      <td>AVICII|THE DAYS</td>\n",
       "      <td>228</td>\n",
       "    </tr>\n",
       "    <tr>\n",
       "      <th>31</th>\n",
       "      <td>JAMIE LAWSON|WASN'T EXPECTING THAT</td>\n",
       "      <td>204</td>\n",
       "    </tr>\n",
       "    <tr>\n",
       "      <th>32</th>\n",
       "      <td>MICHAEL LEARNS TO ROCK|WILD WOMEN</td>\n",
       "      <td>168</td>\n",
       "    </tr>\n",
       "    <tr>\n",
       "      <th>33</th>\n",
       "      <td>SAM SMITH|I'M NOT THE ONLY ONE</td>\n",
       "      <td>156</td>\n",
       "    </tr>\n",
       "    <tr>\n",
       "      <th>34</th>\n",
       "      <td>BRUCE SPRINGSTEEN &amp; THE E STREET BAND|STREETS ...</td>\n",
       "      <td>156</td>\n",
       "    </tr>\n",
       "    <tr>\n",
       "      <th>35</th>\n",
       "      <td>SASHA|COMING HOME</td>\n",
       "      <td>132</td>\n",
       "    </tr>\n",
       "    <tr>\n",
       "      <th>36</th>\n",
       "      <td>KELLY CLARKSON|UNDERNEATH THE TREE</td>\n",
       "      <td>132</td>\n",
       "    </tr>\n",
       "    <tr>\n",
       "      <th>37</th>\n",
       "      <td>BAND AID 30|DO THEY KNOW IT'S CHRISTMAS?</td>\n",
       "      <td>132</td>\n",
       "    </tr>\n",
       "    <tr>\n",
       "      <th>38</th>\n",
       "      <td>SILBERMOND|KRIEGER DES LICHTS</td>\n",
       "      <td>120</td>\n",
       "    </tr>\n",
       "    <tr>\n",
       "      <th>39</th>\n",
       "      <td>STING|FIELDS OF GOLD</td>\n",
       "      <td>120</td>\n",
       "    </tr>\n",
       "    <tr>\n",
       "      <th>40</th>\n",
       "      <td>U2|SUNDAY BLOODY SUNDAY</td>\n",
       "      <td>108</td>\n",
       "    </tr>\n",
       "    <tr>\n",
       "      <th>41</th>\n",
       "      <td>BRYAN ADAMS|MERRY CHRISTMAS</td>\n",
       "      <td>108</td>\n",
       "    </tr>\n",
       "    <tr>\n",
       "      <th>42</th>\n",
       "      <td>MICHAEL BUBLÉ|LET IT SNOW!</td>\n",
       "      <td>108</td>\n",
       "    </tr>\n",
       "    <tr>\n",
       "      <th>43</th>\n",
       "      <td>MATHIA|YOU CAN'T ALWAYS GET WHAT YOU WANT</td>\n",
       "      <td>108</td>\n",
       "    </tr>\n",
       "    <tr>\n",
       "      <th>44</th>\n",
       "      <td>DARYL HALL &amp; JOHN OATES|JINGLE BELL ROCK</td>\n",
       "      <td>108</td>\n",
       "    </tr>\n",
       "    <tr>\n",
       "      <th>45</th>\n",
       "      <td>JIVE BUNNY|ANOTHER BRICK IN THE WALL PART II</td>\n",
       "      <td>108</td>\n",
       "    </tr>\n",
       "    <tr>\n",
       "      <th>46</th>\n",
       "      <td>RIHANNA|DISTURBIA</td>\n",
       "      <td>108</td>\n",
       "    </tr>\n",
       "    <tr>\n",
       "      <th>47</th>\n",
       "      <td>THE BANGLES|ETERNAL FLAME</td>\n",
       "      <td>96</td>\n",
       "    </tr>\n",
       "    <tr>\n",
       "      <th>48</th>\n",
       "      <td>MEGHAN TRAINOR|I'LL BE HOME</td>\n",
       "      <td>96</td>\n",
       "    </tr>\n",
       "    <tr>\n",
       "      <th>49</th>\n",
       "      <td>CÉLINE DION|ONE HEART</td>\n",
       "      <td>96</td>\n",
       "    </tr>\n",
       "  </tbody>\n",
       "</table>\n",
       "</div>"
      ],
      "text/plain": [
       "                                       artist - title  xmas_score\n",
       "0                                WHAM!|LAST CHRISTMAS        2976\n",
       "1   MELANIE THORNTON|WONDERFUL DREAM (HOLIDAYS ARE...        2700\n",
       "2        MARIAH CAREY|ALL I WANT FOR CHRISTMAS IS YOU        2628\n",
       "3                          BRYAN ADAMS|CHRISTMAS TIME        2196\n",
       "4                      QUEEN|THANK GOD IT'S CHRISTMAS        2172\n",
       "5                  SARAH CONNOR|THE BEST SIDE OF LIFE        2160\n",
       "6               BAND AID|DO THEY KNOW IT'S CHRISTMAS?        1560\n",
       "7        AMERITZ - TRIBUTE|DRIVING HOME FOR CHRISTMAS        1464\n",
       "8                CHRIS REA|DRIVING HOME FOR CHRISTMAS        1188\n",
       "9     BAND AID 30|DO THEY KNOW IT'S CHRISTMAS? (2014)        1152\n",
       "10                       EURYTHMICS|WINTER WONDERLAND         984\n",
       "11  MICHAEL BUBLÉ|LET IT SNOW, LET IT SNOW, LET IT...         900\n",
       "12        JON BON JOVI|PLEASE COME HOME FOR CHRISTMAS         768\n",
       "13                         SARAH CONNOR|BEDINGUNGSLOS         744\n",
       "14                              PENTATONIX|HALLELUJAH         720\n",
       "15  AUDREY HANNAH|IT´S DECEMBER (AND I´LL BE MISSI...         636\n",
       "16         MATT SIMONS|CATCH & RELEASE (DEEPEND REMIX         576\n",
       "17                               AVICII|BROKEN ARROWS         516\n",
       "18                      GWEN STEFANI|USED TO LOVE YOU         456\n",
       "19            BRITNEY SPEARS|MY ONLY WISH (THIS YEAR)         444\n",
       "20                                  OLLY MURS|GROW UP         420\n",
       "21                            MAX MUTZKE|UNSERE NACHT         408\n",
       "22                           NICO & VINZ|IN YOUR ARMS         372\n",
       "23                         LEONA LEWIS|ONE MORE SLEEP         372\n",
       "24                          RIHANNA|LOVE ON THE BRAIN         312\n",
       "25              PAUL YOUNG|WHAT CHRISTMAS MEANS TO ME         312\n",
       "26                   THE WEEKND FT. DAFT PUNK|STARBOY         300\n",
       "27             POP R&B DIVAS|DO YOU HEAR WHAT I HEAR?         300\n",
       "28            CARNIE WILSON & WENDY WILSON|HEY SANTA!         264\n",
       "29                 ONEREPUBLIC & ALESSO|LOVE RUNS OUT         240\n",
       "30                                    AVICII|THE DAYS         228\n",
       "31                 JAMIE LAWSON|WASN'T EXPECTING THAT         204\n",
       "32                  MICHAEL LEARNS TO ROCK|WILD WOMEN         168\n",
       "33                     SAM SMITH|I'M NOT THE ONLY ONE         156\n",
       "34  BRUCE SPRINGSTEEN & THE E STREET BAND|STREETS ...         156\n",
       "35                                  SASHA|COMING HOME         132\n",
       "36                 KELLY CLARKSON|UNDERNEATH THE TREE         132\n",
       "37           BAND AID 30|DO THEY KNOW IT'S CHRISTMAS?         132\n",
       "38                      SILBERMOND|KRIEGER DES LICHTS         120\n",
       "39                               STING|FIELDS OF GOLD         120\n",
       "40                            U2|SUNDAY BLOODY SUNDAY         108\n",
       "41                        BRYAN ADAMS|MERRY CHRISTMAS         108\n",
       "42                         MICHAEL BUBLÉ|LET IT SNOW!         108\n",
       "43          MATHIA|YOU CAN'T ALWAYS GET WHAT YOU WANT         108\n",
       "44           DARYL HALL & JOHN OATES|JINGLE BELL ROCK         108\n",
       "45       JIVE BUNNY|ANOTHER BRICK IN THE WALL PART II         108\n",
       "46                                  RIHANNA|DISTURBIA         108\n",
       "47                          THE BANGLES|ETERNAL FLAME          96\n",
       "48                        MEGHAN TRAINOR|I'LL BE HOME          96\n",
       "49                              CÉLINE DION|ONE HEART          96"
      ]
     },
     "execution_count": 11,
     "metadata": {},
     "output_type": "execute_result"
    }
   ],
   "source": [
    "playlist.groupby([\"artist - title\"]).sum().sort_values(\"xmas_score\", ascending=False ).reset_index()[0:50]"
   ]
  },
  {
   "cell_type": "code",
   "execution_count": null,
   "metadata": {
    "collapsed": true
   },
   "outputs": [],
   "source": []
  },
  {
   "cell_type": "code",
   "execution_count": null,
   "metadata": {
    "collapsed": true
   },
   "outputs": [],
   "source": []
  }
 ],
 "metadata": {
  "kernelspec": {
   "display_name": "Python 3",
   "language": "python",
   "name": "python3"
  },
  "language_info": {
   "codemirror_mode": {
    "name": "ipython",
    "version": 3
   },
   "file_extension": ".py",
   "mimetype": "text/x-python",
   "name": "python",
   "nbconvert_exporter": "python",
   "pygments_lexer": "ipython3",
   "version": "3.6.1"
  }
 },
 "nbformat": 4,
 "nbformat_minor": 2
}
